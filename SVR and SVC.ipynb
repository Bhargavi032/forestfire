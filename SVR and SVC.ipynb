{
 "cells": [
  {
   "cell_type": "code",
   "execution_count": 1,
   "id": "e8213a10",
   "metadata": {},
   "outputs": [],
   "source": [
    "import numpy as np\n",
    "import pandas as pd\n",
    "\n",
    "from sklearn.model_selection import train_test_split\n",
    "from sklearn.preprocessing import StandardScaler\n",
    "\n",
    "from sklearn.svm import LinearSVC\n",
    "from sklearn.svm import SVC\n",
    "\n",
    "from sklearn.svm import SVR\n",
    "from sklearn.linear_model import LinearRegression\n",
    "\n",
    "from sklearn.metrics import mean_squared_error \n",
    "\n",
    "import warnings\n",
    "warnings.filterwarnings(action='ignore')"
   ]
  },
  {
   "cell_type": "code",
   "execution_count": 2,
   "id": "14d14df0",
   "metadata": {},
   "outputs": [
    {
     "data": {
      "text/html": [
       "<div>\n",
       "<style scoped>\n",
       "    .dataframe tbody tr th:only-of-type {\n",
       "        vertical-align: middle;\n",
       "    }\n",
       "\n",
       "    .dataframe tbody tr th {\n",
       "        vertical-align: top;\n",
       "    }\n",
       "\n",
       "    .dataframe thead th {\n",
       "        text-align: right;\n",
       "    }\n",
       "</style>\n",
       "<table border=\"1\" class=\"dataframe\">\n",
       "  <thead>\n",
       "    <tr style=\"text-align: right;\">\n",
       "      <th></th>\n",
       "      <th>X</th>\n",
       "      <th>Y</th>\n",
       "      <th>month</th>\n",
       "      <th>day</th>\n",
       "      <th>FFMC</th>\n",
       "      <th>DMC</th>\n",
       "      <th>DC</th>\n",
       "      <th>ISI</th>\n",
       "      <th>temp</th>\n",
       "      <th>RH</th>\n",
       "      <th>wind</th>\n",
       "      <th>rain</th>\n",
       "      <th>area</th>\n",
       "    </tr>\n",
       "  </thead>\n",
       "  <tbody>\n",
       "    <tr>\n",
       "      <th>0</th>\n",
       "      <td>7</td>\n",
       "      <td>5</td>\n",
       "      <td>mar</td>\n",
       "      <td>fri</td>\n",
       "      <td>86.2</td>\n",
       "      <td>26.2</td>\n",
       "      <td>94.3</td>\n",
       "      <td>5.1</td>\n",
       "      <td>8.2</td>\n",
       "      <td>51</td>\n",
       "      <td>6.7</td>\n",
       "      <td>0.0</td>\n",
       "      <td>0.00</td>\n",
       "    </tr>\n",
       "    <tr>\n",
       "      <th>1</th>\n",
       "      <td>7</td>\n",
       "      <td>4</td>\n",
       "      <td>oct</td>\n",
       "      <td>tue</td>\n",
       "      <td>90.6</td>\n",
       "      <td>35.4</td>\n",
       "      <td>669.1</td>\n",
       "      <td>6.7</td>\n",
       "      <td>18.0</td>\n",
       "      <td>33</td>\n",
       "      <td>0.9</td>\n",
       "      <td>0.0</td>\n",
       "      <td>0.00</td>\n",
       "    </tr>\n",
       "    <tr>\n",
       "      <th>2</th>\n",
       "      <td>7</td>\n",
       "      <td>4</td>\n",
       "      <td>oct</td>\n",
       "      <td>sat</td>\n",
       "      <td>90.6</td>\n",
       "      <td>43.7</td>\n",
       "      <td>686.9</td>\n",
       "      <td>6.7</td>\n",
       "      <td>14.6</td>\n",
       "      <td>33</td>\n",
       "      <td>1.3</td>\n",
       "      <td>0.0</td>\n",
       "      <td>0.00</td>\n",
       "    </tr>\n",
       "    <tr>\n",
       "      <th>3</th>\n",
       "      <td>8</td>\n",
       "      <td>6</td>\n",
       "      <td>mar</td>\n",
       "      <td>fri</td>\n",
       "      <td>91.7</td>\n",
       "      <td>33.3</td>\n",
       "      <td>77.5</td>\n",
       "      <td>9.0</td>\n",
       "      <td>8.3</td>\n",
       "      <td>97</td>\n",
       "      <td>4.0</td>\n",
       "      <td>0.2</td>\n",
       "      <td>0.00</td>\n",
       "    </tr>\n",
       "    <tr>\n",
       "      <th>4</th>\n",
       "      <td>8</td>\n",
       "      <td>6</td>\n",
       "      <td>mar</td>\n",
       "      <td>sun</td>\n",
       "      <td>89.3</td>\n",
       "      <td>51.3</td>\n",
       "      <td>102.2</td>\n",
       "      <td>9.6</td>\n",
       "      <td>11.4</td>\n",
       "      <td>99</td>\n",
       "      <td>1.8</td>\n",
       "      <td>0.0</td>\n",
       "      <td>0.00</td>\n",
       "    </tr>\n",
       "    <tr>\n",
       "      <th>...</th>\n",
       "      <td>...</td>\n",
       "      <td>...</td>\n",
       "      <td>...</td>\n",
       "      <td>...</td>\n",
       "      <td>...</td>\n",
       "      <td>...</td>\n",
       "      <td>...</td>\n",
       "      <td>...</td>\n",
       "      <td>...</td>\n",
       "      <td>...</td>\n",
       "      <td>...</td>\n",
       "      <td>...</td>\n",
       "      <td>...</td>\n",
       "    </tr>\n",
       "    <tr>\n",
       "      <th>512</th>\n",
       "      <td>4</td>\n",
       "      <td>3</td>\n",
       "      <td>aug</td>\n",
       "      <td>sun</td>\n",
       "      <td>81.6</td>\n",
       "      <td>56.7</td>\n",
       "      <td>665.6</td>\n",
       "      <td>1.9</td>\n",
       "      <td>27.8</td>\n",
       "      <td>32</td>\n",
       "      <td>2.7</td>\n",
       "      <td>0.0</td>\n",
       "      <td>6.44</td>\n",
       "    </tr>\n",
       "    <tr>\n",
       "      <th>513</th>\n",
       "      <td>2</td>\n",
       "      <td>4</td>\n",
       "      <td>aug</td>\n",
       "      <td>sun</td>\n",
       "      <td>81.6</td>\n",
       "      <td>56.7</td>\n",
       "      <td>665.6</td>\n",
       "      <td>1.9</td>\n",
       "      <td>21.9</td>\n",
       "      <td>71</td>\n",
       "      <td>5.8</td>\n",
       "      <td>0.0</td>\n",
       "      <td>54.29</td>\n",
       "    </tr>\n",
       "    <tr>\n",
       "      <th>514</th>\n",
       "      <td>7</td>\n",
       "      <td>4</td>\n",
       "      <td>aug</td>\n",
       "      <td>sun</td>\n",
       "      <td>81.6</td>\n",
       "      <td>56.7</td>\n",
       "      <td>665.6</td>\n",
       "      <td>1.9</td>\n",
       "      <td>21.2</td>\n",
       "      <td>70</td>\n",
       "      <td>6.7</td>\n",
       "      <td>0.0</td>\n",
       "      <td>11.16</td>\n",
       "    </tr>\n",
       "    <tr>\n",
       "      <th>515</th>\n",
       "      <td>1</td>\n",
       "      <td>4</td>\n",
       "      <td>aug</td>\n",
       "      <td>sat</td>\n",
       "      <td>94.4</td>\n",
       "      <td>146.0</td>\n",
       "      <td>614.7</td>\n",
       "      <td>11.3</td>\n",
       "      <td>25.6</td>\n",
       "      <td>42</td>\n",
       "      <td>4.0</td>\n",
       "      <td>0.0</td>\n",
       "      <td>0.00</td>\n",
       "    </tr>\n",
       "    <tr>\n",
       "      <th>516</th>\n",
       "      <td>6</td>\n",
       "      <td>3</td>\n",
       "      <td>nov</td>\n",
       "      <td>tue</td>\n",
       "      <td>79.5</td>\n",
       "      <td>3.0</td>\n",
       "      <td>106.7</td>\n",
       "      <td>1.1</td>\n",
       "      <td>11.8</td>\n",
       "      <td>31</td>\n",
       "      <td>4.5</td>\n",
       "      <td>0.0</td>\n",
       "      <td>0.00</td>\n",
       "    </tr>\n",
       "  </tbody>\n",
       "</table>\n",
       "<p>517 rows × 13 columns</p>\n",
       "</div>"
      ],
      "text/plain": [
       "     X  Y month  day  FFMC    DMC     DC   ISI  temp  RH  wind  rain   area\n",
       "0    7  5   mar  fri  86.2   26.2   94.3   5.1   8.2  51   6.7   0.0   0.00\n",
       "1    7  4   oct  tue  90.6   35.4  669.1   6.7  18.0  33   0.9   0.0   0.00\n",
       "2    7  4   oct  sat  90.6   43.7  686.9   6.7  14.6  33   1.3   0.0   0.00\n",
       "3    8  6   mar  fri  91.7   33.3   77.5   9.0   8.3  97   4.0   0.2   0.00\n",
       "4    8  6   mar  sun  89.3   51.3  102.2   9.6  11.4  99   1.8   0.0   0.00\n",
       "..  .. ..   ...  ...   ...    ...    ...   ...   ...  ..   ...   ...    ...\n",
       "512  4  3   aug  sun  81.6   56.7  665.6   1.9  27.8  32   2.7   0.0   6.44\n",
       "513  2  4   aug  sun  81.6   56.7  665.6   1.9  21.9  71   5.8   0.0  54.29\n",
       "514  7  4   aug  sun  81.6   56.7  665.6   1.9  21.2  70   6.7   0.0  11.16\n",
       "515  1  4   aug  sat  94.4  146.0  614.7  11.3  25.6  42   4.0   0.0   0.00\n",
       "516  6  3   nov  tue  79.5    3.0  106.7   1.1  11.8  31   4.5   0.0   0.00\n",
       "\n",
       "[517 rows x 13 columns]"
      ]
     },
     "execution_count": 2,
     "metadata": {},
     "output_type": "execute_result"
    }
   ],
   "source": [
    "data = pd.read_csv(\"/home/sky/Documents/yash/forest fire detection/forestfires.csv\")\n",
    "data "
   ]
  },
  {
   "cell_type": "code",
   "execution_count": 3,
   "id": "3f671dac",
   "metadata": {},
   "outputs": [],
   "source": [
    "data = data.drop([\"month\",\"day\"], axis=1)"
   ]
  },
  {
   "cell_type": "code",
   "execution_count": 4,
   "id": "477f890f",
   "metadata": {},
   "outputs": [
    {
     "name": "stdout",
     "output_type": "stream",
     "text": [
      "<class 'pandas.core.frame.DataFrame'>\n",
      "RangeIndex: 517 entries, 0 to 516\n",
      "Data columns (total 11 columns):\n",
      " #   Column  Non-Null Count  Dtype  \n",
      "---  ------  --------------  -----  \n",
      " 0   X       517 non-null    int64  \n",
      " 1   Y       517 non-null    int64  \n",
      " 2   FFMC    517 non-null    float64\n",
      " 3   DMC     517 non-null    float64\n",
      " 4   DC      517 non-null    float64\n",
      " 5   ISI     517 non-null    float64\n",
      " 6   temp    517 non-null    float64\n",
      " 7   RH      517 non-null    int64  \n",
      " 8   wind    517 non-null    float64\n",
      " 9   rain    517 non-null    float64\n",
      " 10  area    517 non-null    float64\n",
      "dtypes: float64(8), int64(3)\n",
      "memory usage: 44.6 KB\n"
     ]
    }
   ],
   "source": [
    "data.info()"
   ]
  },
  {
   "cell_type": "code",
   "execution_count": 5,
   "id": "9b33172e",
   "metadata": {},
   "outputs": [],
   "source": [
    "def preprocess_inputs(df, task='regression'):\n",
    "    df = df.copy()\n",
    "    \n",
    "    # split df into X and y\n",
    "    if task == 'regression':\n",
    "        y = df['area']\n",
    "    elif task == 'classification':\n",
    "        y = df['area'].apply(lambda x: 1 if x > 0 else 0) # will create a new col that will suggest if it is a large fire or small fire\n",
    "    \n",
    "    X = df.drop('area', axis=1) # all other data\n",
    "    \n",
    "    # train test split\n",
    "    X_train, X_test, y_train, y_test = train_test_split(X, y, train_size=0.85, shuffle=True, random_state=1)\n",
    "    \n",
    "    # scaler feature data (X)\n",
    "    scaler = StandardScaler()\n",
    "    scaler.fit(X_train)\n",
    "    \n",
    "    X_train = pd.DataFrame(scaler.transform(X_train), columns=X.columns)\n",
    "    X_test = pd.DataFrame(scaler.transform(X_test), columns=X.columns)\n",
    "        \n",
    "    return X_train, X_test, y_train, y_test"
   ]
  },
  {
   "cell_type": "code",
   "execution_count": 11,
   "id": "9b1d69e8",
   "metadata": {},
   "outputs": [],
   "source": [
    "# Regression"
   ]
  },
  {
   "cell_type": "code",
   "execution_count": 34,
   "id": "735ecccd",
   "metadata": {},
   "outputs": [],
   "source": [
    "X_train_R, X_test_R, y_train_R, y_test_R = preprocess_inputs(data, task='regression')"
   ]
  },
  {
   "cell_type": "code",
   "execution_count": 63,
   "id": "84069dbf",
   "metadata": {},
   "outputs": [
    {
     "name": "stdout",
     "output_type": "stream",
     "text": [
      "SVR R^2: -0.04467\n",
      "MSE :  7868.441915678149\n"
     ]
    }
   ],
   "source": [
    "svr = SVR(kernel='rbf')\n",
    "svr.fit(X_train_R, y_train_R)\n",
    "print(\"SVR R^2: {:.5f}\".format(svr.score(X_test_R, y_test_R)))\n",
    "\n",
    "y_pred_R = svr.predict(X_test_R)\n",
    "print(\"MSE : \",mean_squared_error(y_test_R, y_pred_R))"
   ]
  },
  {
   "cell_type": "code",
   "execution_count": 64,
   "id": "d1c5bb4e",
   "metadata": {},
   "outputs": [],
   "source": [
    "## Prediction on 10 Values\n",
    "area = np.round(y_pred_R[:10])"
   ]
  },
  {
   "cell_type": "code",
   "execution_count": 65,
   "id": "ec604739",
   "metadata": {},
   "outputs": [
    {
     "name": "stdout",
     "output_type": "stream",
     "text": [
      "Area of fire :  1.0\n",
      "Area of fire :  1.0\n",
      "Area of fire :  1.0\n",
      "Area of fire :  1.0\n",
      "Area of fire :  1.0\n",
      "Area of fire :  0.0\n",
      "Area of fire :  1.0\n",
      "Area of fire :  2.0\n",
      "Area of fire :  1.0\n",
      "Area of fire :  -0.0\n"
     ]
    }
   ],
   "source": [
    "for p in area[:10]:\n",
    "    print(\"Area of fire : \",p)"
   ]
  },
  {
   "cell_type": "code",
   "execution_count": 12,
   "id": "b829143d",
   "metadata": {},
   "outputs": [],
   "source": [
    "#Classification"
   ]
  },
  {
   "cell_type": "code",
   "execution_count": 14,
   "id": "735b364e",
   "metadata": {},
   "outputs": [],
   "source": [
    "X_train_C, X_test_C, y_train_C, y_test_C = preprocess_inputs(data, task='classification')"
   ]
  },
  {
   "cell_type": "code",
   "execution_count": 15,
   "id": "d612f315",
   "metadata": {},
   "outputs": [
    {
     "name": "stdout",
     "output_type": "stream",
     "text": [
      "Accuracy of SVC classifier on training set: 0.70\n",
      "Accuracy of SVC classifier on test set: 0.47\n"
     ]
    }
   ],
   "source": [
    "svm = SVC(kernel='rbf').fit(X_train_C, y_train_C)\n",
    "print('Accuracy of SVC classifier on training set: {:.2f}'\n",
    "     .format(svm.score(X_train_C, y_train_C)))\n",
    "print('Accuracy of SVC classifier on test set: {:.2f}'\n",
    "     .format(svm.score(X_test_C, y_test_C)))"
   ]
  },
  {
   "cell_type": "code",
   "execution_count": 16,
   "id": "1a39b8ef",
   "metadata": {},
   "outputs": [
    {
     "data": {
      "text/plain": [
       "array([1, 1, 1, 1, 1, 0, 1, 1, 1, 0])"
      ]
     },
     "execution_count": 16,
     "metadata": {},
     "output_type": "execute_result"
    }
   ],
   "source": [
    "## Prediction on 10 Values\n",
    "pred = svm.predict(X_test_C)\n",
    "pred[:10]"
   ]
  },
  {
   "cell_type": "code",
   "execution_count": 25,
   "id": "d8d8110e",
   "metadata": {},
   "outputs": [
    {
     "name": "stdout",
     "output_type": "stream",
     "text": [
      "1  : There is Fire\n",
      "1  : There is Fire\n",
      "1  : There is Fire\n",
      "1  : There is Fire\n",
      "1  : There is Fire\n",
      "0  : There is no file\n",
      "1  : There is Fire\n",
      "1  : There is Fire\n",
      "1  : There is Fire\n",
      "0  : There is no file\n"
     ]
    }
   ],
   "source": [
    "\n",
    "for p in pred[:10]:\n",
    "    if p == 1:\n",
    "        print(p,\" : There is Fire\")\n",
    "    else:\n",
    "        print(p,\" : There is no fire\")"
   ]
  },
  {
   "cell_type": "code",
   "execution_count": 38,
   "id": "baec627b",
   "metadata": {},
   "outputs": [
    {
     "name": "stdout",
     "output_type": "stream",
     "text": [
      "Accuracy of SVC Poly classifier on training set: 0.79\n",
      "Accuracy of SVC Poly classifier on test set: 0.49\n"
     ]
    }
   ],
   "source": [
    "svm_poly=SVC(kernel='poly', C=100,probability=True).fit(X_train_C, y_train_C)\n",
    "print('Accuracy of SVC Poly classifier on training set: {:.2f}'\n",
    "     .format(svm_poly.score(X_train_C, y_train_C)))\n",
    "print('Accuracy of SVC Poly classifier on test set: {:.2f}'\n",
    "     .format(svm_poly.score(X_test_C, y_test_C)))"
   ]
  },
  {
   "cell_type": "code",
   "execution_count": 46,
   "id": "b84ab257",
   "metadata": {},
   "outputs": [
    {
     "data": {
      "text/plain": [
       "array([1, 1, 0, 1, 0, 1, 0, 1, 1, 1])"
      ]
     },
     "execution_count": 46,
     "metadata": {},
     "output_type": "execute_result"
    }
   ],
   "source": [
    "## Prediction on 10 Values\n",
    "pred = svm_poly.predict(X_test_C)\n",
    "pred[:10]"
   ]
  },
  {
   "cell_type": "code",
   "execution_count": 47,
   "id": "f5e06adb",
   "metadata": {},
   "outputs": [
    {
     "name": "stdout",
     "output_type": "stream",
     "text": [
      "1  : There is Fire\n",
      "1  : There is Fire\n",
      "0  : There is no fire\n",
      "1  : There is Fire\n",
      "0  : There is no fire\n",
      "1  : There is Fire\n",
      "0  : There is no fire\n",
      "1  : There is Fire\n",
      "1  : There is Fire\n",
      "1  : There is Fire\n"
     ]
    }
   ],
   "source": [
    "for p in pred[:10]:\n",
    "    if p == 1:\n",
    "        print(p,\" : There is Fire\")\n",
    "    else:\n",
    "        print(p,\" : There is no fire\")"
   ]
  },
  {
   "cell_type": "code",
   "execution_count": 48,
   "id": "e921986b",
   "metadata": {},
   "outputs": [
    {
     "name": "stdout",
     "output_type": "stream",
     "text": [
      "Accuracy of SVC Sigmoid classifier on training set: 0.51\n",
      "Accuracy of SVC Sigmoid classifier on test set: 0.33\n"
     ]
    }
   ],
   "source": [
    "svm_sigmoid=SVC(kernel='sigmoid', C=100,probability=True).fit(X_train_C, y_train_C)\n",
    "print('Accuracy of SVC Sigmoid classifier on training set: {:.2f}'\n",
    "     .format(svm_sigmoid.score(X_train_C, y_train_C)))\n",
    "print('Accuracy of SVC Sigmoid classifier on test set: {:.2f}'\n",
    "     .format(svm_sigmoid.score(X_test_C, y_test_C)))"
   ]
  },
  {
   "cell_type": "code",
   "execution_count": 49,
   "id": "9b53abdb",
   "metadata": {},
   "outputs": [
    {
     "data": {
      "text/plain": [
       "array([1, 1, 1, 1, 0, 0, 1, 1, 1, 0])"
      ]
     },
     "execution_count": 49,
     "metadata": {},
     "output_type": "execute_result"
    }
   ],
   "source": [
    "## Prediction on 10 Values\n",
    "pred = svm_sigmoid.predict(X_test_C)\n",
    "pred[:10]"
   ]
  },
  {
   "cell_type": "code",
   "execution_count": 50,
   "id": "a6e9f535",
   "metadata": {},
   "outputs": [
    {
     "name": "stdout",
     "output_type": "stream",
     "text": [
      "1  : There is Fire\n",
      "1  : There is Fire\n",
      "1  : There is Fire\n",
      "1  : There is Fire\n",
      "0  : There is no fire\n",
      "0  : There is no fire\n",
      "1  : There is Fire\n",
      "1  : There is Fire\n",
      "1  : There is Fire\n",
      "0  : There is no fire\n"
     ]
    }
   ],
   "source": [
    "\n",
    "for p in pred[:10]:\n",
    "    if p == 1:\n",
    "        print(p,\" : There is Fire\")\n",
    "    else:\n",
    "        print(p,\" : There is no fire\")"
   ]
  },
  {
   "cell_type": "code",
   "execution_count": 51,
   "id": "7e4fa811",
   "metadata": {},
   "outputs": [
    {
     "name": "stdout",
     "output_type": "stream",
     "text": [
      "Accuracy of SVC decision_function classifier on training set: 0.70\n",
      "Accuracy of SVC decision_function classifier on test set: 0.47\n"
     ]
    }
   ],
   "source": [
    "svm_decf = SVC(kernel='rbf', C=1,decision_function_shape='ovr').fit(X_train_C, y_train_C)\n",
    "print('Accuracy of SVC decision_function classifier on training set: {:.2f}'\n",
    "     .format(svm_decf.score(X_train_C, y_train_C)))\n",
    "print('Accuracy of SVC decision_function classifier on test set: {:.2f}'\n",
    "     .format(svm_decf.score(X_test_C, y_test_C)))\n"
   ]
  },
  {
   "cell_type": "code",
   "execution_count": 52,
   "id": "4ac46cb1",
   "metadata": {},
   "outputs": [
    {
     "data": {
      "text/plain": [
       "array([1, 1, 1, 1, 1, 0, 1, 1, 1, 0])"
      ]
     },
     "execution_count": 52,
     "metadata": {},
     "output_type": "execute_result"
    }
   ],
   "source": [
    "## Prediction on 10 Values\n",
    "pred = svm_decf.predict(X_test_C)\n",
    "pred[:10]"
   ]
  },
  {
   "cell_type": "code",
   "execution_count": 53,
   "id": "2fca0bc4",
   "metadata": {},
   "outputs": [
    {
     "name": "stdout",
     "output_type": "stream",
     "text": [
      "1  : There is Fire\n",
      "1  : There is Fire\n",
      "1  : There is Fire\n",
      "1  : There is Fire\n",
      "1  : There is Fire\n",
      "0  : There is no fire\n",
      "1  : There is Fire\n",
      "1  : There is Fire\n",
      "1  : There is Fire\n",
      "0  : There is no fire\n"
     ]
    }
   ],
   "source": [
    "for p in pred[:10]:\n",
    "    if p == 1:\n",
    "        print(p,\" : There is Fire\")\n",
    "    else:\n",
    "        print(p,\" : There is no fire\")"
   ]
  },
  {
   "cell_type": "code",
   "execution_count": 54,
   "id": "70e4377a",
   "metadata": {},
   "outputs": [
    {
     "name": "stdout",
     "output_type": "stream",
     "text": [
      "Accuracy of Linear SVC classifier on training set: 0.59\n",
      "Accuracy of Linear SVC classifier on test set: 0.54\n"
     ]
    }
   ],
   "source": [
    "linear_svc = LinearSVC().fit(X_train_C, y_train_C)\n",
    "\n",
    "print('Accuracy of Linear SVC classifier on training set: {:.2f}'\n",
    "     .format(linear_svc.score(X_train_C, y_train_C)))\n",
    "print('Accuracy of Linear SVC classifier on test set: {:.2f}'\n",
    "     .format(linear_svc.score(X_test_C, y_test_C)))\n"
   ]
  },
  {
   "cell_type": "code",
   "execution_count": 55,
   "id": "4ce6a12a",
   "metadata": {},
   "outputs": [
    {
     "data": {
      "text/plain": [
       "array([0, 1, 1, 1, 1, 0, 1, 1, 1, 0])"
      ]
     },
     "execution_count": 55,
     "metadata": {},
     "output_type": "execute_result"
    }
   ],
   "source": [
    "## Prediction on 10 Values\n",
    "pred = linear_svc.predict(X_test_C)\n",
    "pred[:10]"
   ]
  },
  {
   "cell_type": "code",
   "execution_count": 56,
   "id": "dc8ed438",
   "metadata": {},
   "outputs": [
    {
     "name": "stdout",
     "output_type": "stream",
     "text": [
      "0  : There is no fire\n",
      "1  : There is Fire\n",
      "1  : There is Fire\n",
      "1  : There is Fire\n",
      "1  : There is Fire\n",
      "0  : There is no fire\n",
      "1  : There is Fire\n",
      "1  : There is Fire\n",
      "1  : There is Fire\n",
      "0  : There is no fire\n"
     ]
    }
   ],
   "source": [
    "for p in pred[:10]:\n",
    "    if p == 1:\n",
    "        print(p,\" : There is Fire\")\n",
    "    else:\n",
    "        print(p,\" : There is no fire\")"
   ]
  },
  {
   "cell_type": "code",
   "execution_count": null,
   "id": "1550b11a",
   "metadata": {},
   "outputs": [],
   "source": []
  }
 ],
 "metadata": {
  "kernelspec": {
   "display_name": "Python 3 (ipykernel)",
   "language": "python",
   "name": "python3"
  },
  "language_info": {
   "codemirror_mode": {
    "name": "ipython",
    "version": 3
   },
   "file_extension": ".py",
   "mimetype": "text/x-python",
   "name": "python",
   "nbconvert_exporter": "python",
   "pygments_lexer": "ipython3",
   "version": "3.9.12"
  }
 },
 "nbformat": 4,
 "nbformat_minor": 5
}
